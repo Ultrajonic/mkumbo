{
  "nbformat": 4,
  "nbformat_minor": 0,
  "metadata": {
    "colab": {
      "provenance": [],
      "authorship_tag": "ABX9TyNLXCPHsn1+1t5cKlNFTqYz",
      "include_colab_link": true
    },
    "kernelspec": {
      "name": "python3",
      "display_name": "Python 3"
    },
    "language_info": {
      "name": "python"
    }
  },
  "cells": [
    {
      "cell_type": "markdown",
      "metadata": {
        "id": "view-in-github",
        "colab_type": "text"
      },
      "source": [
        "<a href=\"https://colab.research.google.com/github/Ultrajonic/mkumbo/blob/main/ASCII_ART.ipynb\" target=\"_parent\"><img src=\"https://colab.research.google.com/assets/colab-badge.svg\" alt=\"Open In Colab\"/></a>"
      ]
    },
    {
      "cell_type": "code",
      "source": [
        "!pip install pillow\n",
        "!pip install opencv-python"
      ],
      "metadata": {
        "colab": {
          "base_uri": "https://localhost:8080/"
        },
        "id": "hBXGSjq0Sqjr",
        "outputId": "1c5794a1-8a77-4f36-efbc-d4418bf7ba06"
      },
      "execution_count": null,
      "outputs": [
        {
          "output_type": "stream",
          "name": "stdout",
          "text": [
            "Looking in indexes: https://pypi.org/simple, https://us-python.pkg.dev/colab-wheels/public/simple/\n",
            "Requirement already satisfied: pillow in /usr/local/lib/python3.10/dist-packages (8.4.0)\n",
            "Looking in indexes: https://pypi.org/simple, https://us-python.pkg.dev/colab-wheels/public/simple/\n",
            "Requirement already satisfied: opencv-python in /usr/local/lib/python3.10/dist-packages (4.7.0.72)\n",
            "Requirement already satisfied: numpy>=1.21.2 in /usr/local/lib/python3.10/dist-packages (from opencv-python) (1.22.4)\n"
          ]
        }
      ]
    },
    {
      "cell_type": "code",
      "execution_count": null,
      "metadata": {
        "colab": {
          "base_uri": "https://localhost:8080/"
        },
        "id": "2K3ssHpsQ1By",
        "outputId": "99ab69ed-49b8-4a7b-8ee8-3224f22ca706"
      },
      "outputs": [
        {
          "output_type": "stream",
          "name": "stdout",
          "text": [
            "Enter the path to your image: /content/images.jpeg\n",
            "     ..........:------:--.........                                                                  \n",
            "      .......:---=---===+-........                                                                  \n",
            "      ......----==--===+===:......                                                                  \n",
            "      .....---=+=+=-=+=+===+-.....                                                                  \n",
            "      ....-=---====-=*=======:....                                                                  \n",
            "      ...====--=====*+=======+-. ....                                                               \n",
            "     ...=#+++=====++*+=====+#**+. ...                                                               \n",
            "     ...=*****+==+*+***+++=#%++#+--.                                                                \n",
            "     ...=+#***++++****++*=+#%+*@%#%+. ..                                                            \n",
            "     ...=*#**+====+*++==++++#++%@%###:..                                                            \n",
            "     ..:+#***==--=+*+++==++*#*=+#@%#%#:                                                             \n",
            "     ..=+++*+=-==+++=++===**##++*%@%%@%= .....................................                      \n",
            "      :===+++=+##+====*#*=+*#%#++%@%#@@%- ......................   ............                     \n",
            "     .-==++++==*#+===+##++*#**#*=#%%#%@@%+-. .............  ...::::::..........                     \n",
            "      -=++++++++*+===+**+****=*#**%%#*#@@%%*:.........  ....:--=======-:.......                     \n",
            "      -++=++===**+++++****#**++####%#*+*%%%##:.........::--=====--=====++-.....                     \n",
            "      -+=+====++++++++******+++*%%#%#**++****++==---=======--============+=. ..                     \n",
            "      :++=========++***+*****+**%%%%#++*++++++=========================+++*+:.......                \n",
            "      :==-==++=---+*+==+**###**#%####*+**++++==========================++++**: .....                \n",
            "      .==-==+++:::-#--=+*####**#%%#%#*+**+++================++=========+++++#*: ....                \n",
            "     ..==:=++++::--*--=+#####*###%#@#*++*++++==============+++++=====+++++++*%+.....                \n",
            "     ..--:=*+=*=-=%@+--+##****####%%#*++*+++=============+++**++++===+++++++*%#-....                \n",
            "     ..:--=*+=*%*=+*++*#*#*#**#%##%%#*++*++==============++***+=====++++++++*%%*....                \n",
            "     ..::-+*+++%%*+**#@##*****#%#%%#**++*++==============+****+++===+++**+++*#%#= ..                \n",
            "     ...--**=+==-==++*%##****#%##%%#*++=*++==============++***++===+++***+++*#%#*. .                \n",
            "     ...:-*+====::---=###*++**#*#%%#*+==*+++=========+++++++**++===+++***++++#%##-..                \n",
            "     ...:=**+====:::-*#%#*++*+*##%%#++==**+===========+==+++**++====++***+++*+###+...               \n",
            "     ....=+*+++===-=+*###*++++*##%%#+=++**++===========++++**+++=====+**++++*=+%#*:.                \n",
            "      ...-+**++=====++*#***+++*%#%%*+=++**++========++=++++**+++=====+++++++*=-###=..               \n",
            "      ....=**++=+=+=++****+=++###%%*==+***+++=====+++++++++****+=====+++++++*+:###*.                \n",
            "      .....=**+=+++++**##*+=**#*#%#+==+*#*+++++++++++++++++****++====++++++++*:=##*:                \n",
            "      ......-**++++**###*+==***#%%*+=+**#*++++++++++++++++**##**+++==++=++++**-:##*= ..             \n",
            "      ...... =*#*+**####*++++**#%%+=++**##***+++++++++++++*#*****+++=++===++**=.+##+. .             \n",
            "      .......:**#**####***+**#*%%#+==+**##***+++++++++++++*==#**++++++===+++***.-##*: .. .          \n",
            "           .. :+##***###***##*#%#++=+++*##*+++++++++++++++-.:#*+++=+++===+++***-.*##- ....          \n",
            "           ... -*#***+*##*#%##%%*+==+=++***+++++++++++++=:...**++===++++==+++**+.=##+.....          \n",
            "           .....+##*+++###%@#%%#++====++***++++++++==+=:. ...=*+==-==+*++==++***::##*:....          \n",
            "           ......-##**####%%#%%+++====+**++++========-.. ....:*+==-===++++=+++**+.+##=....          \n",
            "           ...... -*#%%%%%%%%%*+=+====+*+======---::..........++==--=-:++++++++*#-:##*....          \n",
            "             ..  . .:-++#%%@%%*=======++:........   ......... -+=--=+:.:+*+++++*#*=+##-...          \n",
            "                       .+******=======+=... .    ............ .==--=+-..:+***+++*#*+**+...          \n",
            "                   .....=++=+++======++:.......................-=--=+-....=**++++******- .   ..     \n",
            "                 .......-+===+*======++. .......   ............:=---+=.....-*****+******:... ...    \n",
            "                 .......-====++-=====+=. .......................=-:-++..... :+*******-**##*#+...    \n",
            "                 .......:=====+--===++- .......................:+-:-++:.......=**#***:-*#%@@@%:     \n",
            "      ..............  ..:=====+:--==++- .......................:+=--+=.........=*#***:.=*#%@@@= . ..\n",
            "      ...................==-===:-====+:........................=*=-=+:..........=*#**-..-*%@@*......\n",
            "      ...................=+====.-====+: ......................:**+=+-...........:+***=....:--.......\n",
            ".........................-+====.-====+: .....................:*#*++=.............=***=..............\n",
            ".........................-=====.-====+:...................:-=*#**+=..............=***+..............\n",
            ".........................-====+:=+++=+:..................:*#****++:..............+***+..............\n",
            "........................:===+=+.+*++++:..................=*****++=............:=*##*++..............\n",
            "......................:-+===+=..+***++:..................=+++++++:............=++****+.:::::::......\n",
            ".....................:=++===*-.:******:..................-+++++++=-::.........=-===+++::::::........\n",
            ".....................-==+=-=+-:=******:......::::::::::::------------:::::::::-===-=+=..............\n",
            ".....................--==--==-+++*+**+:::---------:::::::::::----------::::::::------:..............\n",
            "...........:::::::::::--------=====+*=------:::::::::.......:::::::::...............................\n",
            ".......:::::::::::::::----------===++-:::...........................................................\n",
            ".............::::::::::::::::::--:--:...............................................................\n",
            "...............................................................................................     \n",
            "...............................................................................................     \n",
            "............................................................................................ ..     \n"
          ]
        }
      ],
      "source": [
        "from PIL import Image\n",
        "\n",
        "# Set the width of the ASCII art\n",
        "width = 100\n",
        "\n",
        "# ASCII characters to represent the image\n",
        "ascii_chars = \"@%#*+=-:. \"\n",
        "\n",
        "# Load the input image\n",
        "image_path = input(\"Enter the path to your image: \")\n",
        "input_image = Image.open(image_path)\n",
        "\n",
        "# Calculate the height based on the aspect ratio\n",
        "aspect_ratio = float(input_image.width) / float(input_image.height)\n",
        "height = int(width / aspect_ratio)\n",
        "\n",
        "# Resize the input image\n",
        "input_image = input_image.resize((width, height))\n",
        "\n",
        "# Convert the input image to grayscale\n",
        "grayscale_image = input_image.convert(\"L\")\n",
        "\n",
        "# Get the pixel data of the grayscale image\n",
        "pixels = grayscale_image.getdata()\n",
        "\n",
        "# Convert the pixel values to ASCII characters\n",
        "ascii_art = \"\"\n",
        "for pixel_value in pixels:\n",
        "    ascii_index = int(pixel_value / 255 * (len(ascii_chars) - 1))\n",
        "    ascii_char = ascii_chars[ascii_index]\n",
        "    ascii_art += ascii_char\n",
        "\n",
        "# Split the ASCII art into lines\n",
        "ascii_lines = [ascii_art[i:i+width] for i in range(0, len(ascii_art), width)]\n",
        "\n",
        "# Print the ASCII art\n",
        "for line in ascii_lines:\n",
        "    print(line)\n"
      ]
    },
    {
      "cell_type": "code",
      "source": [
        "from PIL import Image\n",
        "\n",
        "# Set the ASCII characters to represent the image\n",
        "ascii_chars = \"@%#*+=-:. \"\n",
        "\n",
        "# Load the input image\n",
        "image_path = input(\"Enter the path to your image: \")\n",
        "input_image = Image.open(image_path)\n",
        "\n",
        "# Get the desired width and height of the output ASCII art\n",
        "width = int(input(\"Enter the width of the ASCII art: \"))\n",
        "height = int(input(\"Enter the height of the ASCII art: \"))\n",
        "\n",
        "# Resize the input image\n",
        "input_image = input_image.resize((width, height))\n",
        "\n",
        "# Convert the input image to grayscale\n",
        "grayscale_image = input_image.convert(\"L\")\n",
        "\n",
        "# Get the pixel data of the grayscale image\n",
        "pixels = grayscale_image.getdata()\n",
        "\n",
        "# Convert the pixel values to ASCII characters\n",
        "ascii_art = \"\"\n",
        "for pixel_value in pixels:\n",
        "    ascii_index = int(pixel_value / 255 * (len(ascii_chars) - 1))\n",
        "    ascii_char = ascii_chars[ascii_index]\n",
        "    ascii_art += ascii_char\n",
        "\n",
        "# Split the ASCII art into lines\n",
        "ascii_lines = [ascii_art[i:i+width] for i in range(0, len(ascii_art), width)]\n",
        "\n",
        "# Print the ASCII art\n",
        "for line in ascii_lines:\n",
        "    print(line)\n"
      ],
      "metadata": {
        "colab": {
          "base_uri": "https://localhost:8080/"
        },
        "id": "L8BVC_QyXHJ9",
        "outputId": "c66b8ea6-b895-4ef8-bb40-35215c08ec0f"
      },
      "execution_count": null,
      "outputs": [
        {
          "output_type": "stream",
          "name": "stdout",
          "text": [
            "Enter the path to your image: /content/MANDELA.jpeg\n",
            "Enter the width of the ASCII art: 70\n",
            "Enter the height of the ASCII art: 30\n",
            "                ......................................................\n",
            "                  ...............::............... ...................\n",
            "                  .............:::::::........:::::....  .............\n",
            "                  ...........:::::::::...:::::-:-=++++=--.............\n",
            "                  .........:::::-::.......::::::::--=++**+-:..........\n",
            "               ...........:::::::....:::::::---------==+==---::.......\n",
            "                  .......::::::::::::::::::::::---==+++++=--::-::.....\n",
            "                  ......:::::.:---::::::::::::---==+*+++**=-::---:....\n",
            "                  ......:::::.:---------::::::--=++******+=--:-----...\n",
            "                  .....:::::.:-----::::::::::----=++++****++-::---=-..\n",
            "                  .....::::.::--=--====-----=+++++++=+*****+=-::-===..\n",
            "                 ......::::::-==-=++***=---=***+++=++*#******+-=====:.\n",
            "                  .....::::::==+***##*+=::-++***++*####*##*******##*=.\n",
            "                  .....::----+*+====--=-:-+*+=--=====+=+*****#%#%@@%+.\n",
            "                  .....:::----::--:::::::-++*+-::::::--=+*****%%%#%%*.\n",
            "                  .....:::-::::::::--=+++**++**=-::::-=+*****###%##%#.\n",
            "                  ......::---::::=*=*%###%%%##+-==---=+***#####%%%#%=.\n",
            "                  ......::--=-==*#=-:::----=====-+*++**########%###=..\n",
            "                  .......::-=++*#=--=+***#####**+++#**######*#%##*-...\n",
            "                   ......::--++**+##%******#%%%%%#****########@+-.....\n",
            "                   ......::---+++*+===++**#####***##*#%#####*%*.......\n",
            "                   ......::---=**+====+*###*****##**%%%#%%###+........\n",
            "                   .......:::--=**=====+++++++****#%%%%%%%#*-.........\n",
            "                   ........:::::-=++++**++*#####%@@@@@@%%%#%= ........\n",
            "                   .........:::::::=*#%%%@@@@@@@@@@@@@%%%%@@%=:.......\n",
            "                   ..........:::::=*=*%@@@@@@@@@@@@@@@@@@@@@@@%=...:::\n",
            "                   .........::::::*@*+##%##@@@@@@%%@@@@@@@@@@@@%*+-:..\n",
            "                   ........::::::+#%%******#%%%%%@@@@@@@@@@@@@@@@@@#+=\n",
            "                   .......::--=+*##%%#***#**#%%@@@@@@@@@@@@@@%@@@@@@@@\n",
            "                  .....:-=+***#%%%#%@#*+**+*%%@@@@@@@@@@@@%%%@@@@@@@@@\n"
          ]
        }
      ]
    },
    {
      "cell_type": "code",
      "source": [
        "!pip install gensim"
      ],
      "metadata": {
        "colab": {
          "base_uri": "https://localhost:8080/"
        },
        "id": "4QiK3rcFYYst",
        "outputId": "e28c6bda-1e60-4d76-adde-d60cce2cf81d"
      },
      "execution_count": null,
      "outputs": [
        {
          "output_type": "stream",
          "name": "stdout",
          "text": [
            "Looking in indexes: https://pypi.org/simple, https://us-python.pkg.dev/colab-wheels/public/simple/\n",
            "Requirement already satisfied: gensim in /usr/local/lib/python3.10/dist-packages (4.3.1)\n",
            "Requirement already satisfied: numpy>=1.18.5 in /usr/local/lib/python3.10/dist-packages (from gensim) (1.22.4)\n",
            "Requirement already satisfied: scipy>=1.7.0 in /usr/local/lib/python3.10/dist-packages (from gensim) (1.10.1)\n",
            "Requirement already satisfied: smart-open>=1.8.1 in /usr/local/lib/python3.10/dist-packages (from gensim) (6.3.0)\n"
          ]
        }
      ]
    },
    {
      "cell_type": "code",
      "source": [
        "from gensim.models import Word2Vec\n",
        "\n",
        "# Define your own text\n",
        "my_text = \"This is my sample text for generating embeddings.\"\n",
        "\n",
        "# Split the text into a list of sentences\n",
        "sentences = my_text.split(\". \")\n",
        "\n",
        "# Split each sentence into a list of words\n",
        "word_list = [sentence.split() for sentence in sentences]\n",
        "\n",
        "# Train the Word2Vec model\n",
        "model = Word2Vec(word_list, min_count=1, vector_size=100)\n",
        "\n",
        "# Get the embedding for a specific word\n",
        "embedding = model.wv['sample']\n",
        "print(embedding)\n",
        "\n"
      ],
      "metadata": {
        "colab": {
          "base_uri": "https://localhost:8080/"
        },
        "id": "ArgclXqWi37U",
        "outputId": "3e7bd05e-f8cd-4d74-f6b3-775b7f7c85ce"
      },
      "execution_count": null,
      "outputs": [
        {
          "output_type": "stream",
          "name": "stdout",
          "text": [
            "[-0.00713902  0.00124103 -0.00717672 -0.00224462  0.0037193   0.00583312\n",
            "  0.00119818  0.00210273 -0.00411039  0.00722533 -0.00630704  0.00464722\n",
            " -0.00821997  0.00203647 -0.00497705 -0.00424769 -0.00310898  0.00565521\n",
            "  0.0057984  -0.00497465  0.00077333 -0.00849578  0.00780981  0.00925729\n",
            " -0.00274233  0.00080022  0.00074665  0.00547788 -0.00860608  0.00058446\n",
            "  0.00686942  0.00223159  0.00112468 -0.00932216  0.00848237 -0.00626413\n",
            " -0.00299237  0.00349379 -0.00077263  0.00141129  0.00178199 -0.0068289\n",
            " -0.00972481  0.00904058  0.00619805 -0.00691293  0.00340348  0.00020606\n",
            "  0.00475375 -0.00711994  0.00402695  0.00434743  0.00995737 -0.00447374\n",
            " -0.00138926 -0.00731732 -0.00969783 -0.00908026 -0.00102275 -0.00650329\n",
            "  0.00484973 -0.00616403  0.00251919  0.00073944 -0.00339215 -0.00097922\n",
            "  0.00997913  0.00914589 -0.00446183  0.00908303 -0.00564176  0.00593092\n",
            " -0.00309722  0.00343175  0.00301723  0.00690046 -0.00237388  0.00877504\n",
            "  0.00758943 -0.00954765 -0.00800821 -0.0076379   0.00292326 -0.00279472\n",
            " -0.00692952 -0.00812826  0.00830918  0.00199049 -0.00932802 -0.00479272\n",
            "  0.00313674 -0.00471321  0.00528084 -0.00423344  0.0026418  -0.00804569\n",
            "  0.00620989  0.00481889  0.00078719  0.00301345]\n"
          ]
        }
      ]
    },
    {
      "cell_type": "code",
      "source": [],
      "metadata": {
        "id": "yvXLsYDqi7_a"
      },
      "execution_count": null,
      "outputs": []
    }
  ]
}